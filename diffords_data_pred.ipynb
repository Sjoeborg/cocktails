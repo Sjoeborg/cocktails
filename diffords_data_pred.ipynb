{
 "cells": [
  {
   "cell_type": "code",
   "execution_count": 29,
   "metadata": {},
   "outputs": [],
   "source": [
    "import pandas as pd\n",
    "import numpy as np\n",
    "import re"
   ]
  },
  {
   "cell_type": "code",
   "execution_count": 14,
   "metadata": {},
   "outputs": [],
   "source": [
    "df.to_csv('./difford_1_5000.csv', index=False)"
   ]
  },
  {
   "cell_type": "code",
   "execution_count": 15,
   "metadata": {},
   "outputs": [],
   "source": [
    "df = pd.read_csv('./difford_1_5000.csv')"
   ]
  },
  {
   "cell_type": "code",
   "execution_count": 30,
   "metadata": {},
   "outputs": [
    {
     "data": {
      "text/plain": [
       "['1 1⁄2 shot Bacardi Carta Blanca light rum',\n",
       " '1⁄2 shot De Kuyper Triple Sec (40%)',\n",
       " '3⁄4 shot Lemon juice (freshly squeezed)',\n",
       " '3⁄4 shot Lime cordial (sweetened lime juice)',\n",
       " '1⁄2 shot Pasteurised egg white']"
      ]
     },
     "execution_count": 30,
     "metadata": {},
     "output_type": "execute_result"
    }
   ],
   "source": [
    "ingredient_list = eval(df.loc[10]['ingredients'])\n",
    "\n",
    "ingredient_list"
   ]
  },
  {
   "cell_type": "code",
   "execution_count": 86,
   "metadata": {},
   "outputs": [
    {
     "data": {
      "text/plain": [
       "'1⁄2 shot De Kuyper Triple Sec (40%)'"
      ]
     },
     "execution_count": 86,
     "metadata": {},
     "output_type": "execute_result"
    }
   ],
   "source": [
    "ingredient_list[1]"
   ]
  },
  {
   "cell_type": "code",
   "execution_count": 107,
   "metadata": {},
   "outputs": [],
   "source": [
    "def extract_words(ingredient_list):\n",
    "    cleaned_list = []\n",
    "    for i,ingredient in enumerate(eval(ingredient_list)):\n",
    "        ingredient = \"\".join(re.split(\"\\(|\\)|\\[|\\]\", ingredient)[::2])\n",
    "        clean_ingredient = ' '.join([word for word in re.findall(\"[a-zA-Z'é]+\",ingredient) if word not in ['shot','drop', 'spoon','dash']])\n",
    "\n",
    "        cleaned_list.append(clean_ingredient)\n",
    "    cleaned_string = '|'.join(cleaned_list)\n",
    "    return cleaned_list"
   ]
  },
  {
   "cell_type": "code",
   "execution_count": 104,
   "metadata": {},
   "outputs": [
    {
     "data": {
      "text/plain": [
       "['1 shot Rémy Martin 1738 Cognac',\n",
       " '2⁄3 shot Disaronno amaretto',\n",
       " '2⁄3 shot Lemon juice (freshly squeezed)',\n",
       " '1⁄2 shot De Kuyper Apricot Brandy liqueur',\n",
       " '1⁄3 shot Rhubarb sugar syrup',\n",
       " '2 dash Orange Bitters by Angostura']"
      ]
     },
     "execution_count": 104,
     "metadata": {},
     "output_type": "execute_result"
    }
   ],
   "source": [
    "eval(df.loc[3548]['ingredients'])"
   ]
  },
  {
   "cell_type": "code",
   "execution_count": 105,
   "metadata": {},
   "outputs": [
    {
     "data": {
      "text/plain": [
       "['Rémy Martin Cognac',\n",
       " 'Disaronno amaretto',\n",
       " 'Lemon juice',\n",
       " 'De Kuyper Apricot Brandy liqueur',\n",
       " 'Rhubarb sugar syrup',\n",
       " 'Orange Bitters by Angostura']"
      ]
     },
     "execution_count": 105,
     "metadata": {},
     "output_type": "execute_result"
    }
   ],
   "source": [
    "extract_words(df.loc[3548]['ingredients'])"
   ]
  },
  {
   "cell_type": "code",
   "execution_count": 106,
   "metadata": {},
   "outputs": [
    {
     "data": {
      "text/plain": [
       "3757    [Bacardi Carta Blanca light rum, Rosato rosé v...\n",
       "2202    [fresh Raspberries, Rutte Dry Gin, Martini Ext...\n",
       "1339    [Rutte Dry Gin, Italian red bitter liqueur, Ma...\n",
       "3568    [Bourbon whiskey, Italian red bitter liqueur, ...\n",
       "4098               [Fino sherry, Thomas Henry Ginger Ale]\n",
       "Name: ingredients, dtype: object"
      ]
     },
     "execution_count": 106,
     "metadata": {},
     "output_type": "execute_result"
    }
   ],
   "source": [
    "df.sample(5)['ingredients'].apply(extract_words)"
   ]
  }
 ],
 "metadata": {
  "kernelspec": {
   "display_name": "Python 3.10.0 64-bit",
   "language": "python",
   "name": "python3"
  },
  "language_info": {
   "codemirror_mode": {
    "name": "ipython",
    "version": 3
   },
   "file_extension": ".py",
   "mimetype": "text/x-python",
   "name": "python",
   "nbconvert_exporter": "python",
   "pygments_lexer": "ipython3",
   "version": "3.10.0"
  },
  "orig_nbformat": 4,
  "vscode": {
   "interpreter": {
    "hash": "369f2c481f4da34e4445cda3fffd2e751bd1c4d706f27375911949ba6bb62e1c"
   }
  }
 },
 "nbformat": 4,
 "nbformat_minor": 2
}
