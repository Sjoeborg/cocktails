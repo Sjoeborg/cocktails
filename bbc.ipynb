{
 "cells": [
  {
   "cell_type": "code",
   "execution_count": 1,
   "metadata": {},
   "outputs": [
    {
     "name": "stdout",
     "output_type": "stream",
     "text": [
      "\n"
     ]
    },
    {
     "name": "stderr",
     "output_type": "stream",
     "text": [
      "[WDM] - ====== WebDriver manager ======\n",
      "[WDM] - Current google-chrome version is 102.0.5005\n",
      "[WDM] - Get LATEST chromedriver version for 102.0.5005 google-chrome\n",
      "[WDM] - Driver [C:\\Users\\Martin\\.wdm\\drivers\\chromedriver\\win32\\102.0.5005.61\\chromedriver.exe] found in cache\n"
     ]
    }
   ],
   "source": [
    "from selenium import webdriver\n",
    "from selenium.webdriver.chrome.service import Service\n",
    "from selenium.webdriver.common.by import By\n",
    "from selenium.common.exceptions import NoSuchElementException\n",
    "import pandas as pd\n",
    "from webdriver_manager.chrome import ChromeDriverManager\n",
    "import re\n",
    "\n",
    "driver = webdriver.Chrome(service=Service(ChromeDriverManager().install()))\n",
    "\n",
    "df = pd.DataFrame(None, columns=['name','time','portions','difficulty','description', 'ingredients','steps', 'website', 'url', 'image_url'])"
   ]
  },
  {
   "cell_type": "code",
   "execution_count": 5,
   "metadata": {},
   "outputs": [],
   "source": [
    "drink_links = []\n",
    "for page in range(1,5):\n",
    "    driver.get(f\"https://www.bbcgoodfood.com/recipes/collection/cocktail-recipes?page={page}\")\n",
    "    for item in driver.find_elements(by=By.CSS_SELECTOR, value='.card--inline .link')[::2]:\n",
    "        drink_links.append(item.get_attribute('href'))\n",
    "assert len(drink_links) == 90"
   ]
  },
  {
   "cell_type": "code",
   "execution_count": null,
   "metadata": {},
   "outputs": [],
   "source": [
    "website = 'bbc'\n",
    "from time import sleep\n",
    "def scrape(url,df):\n",
    "    driver.get(url)\n",
    "    sleep(5)\n",
    "    try:\n",
    "        driver.find_element(by=By.XPATH, value='//*[@id=\"qc-cmp2-ui\"]/div[2]/div/button[1]').click()\n",
    "    except NoSuchElementException:\n",
    "        pass\n",
    "    try:\n",
    "        driver.find_element(by=By.CLASS_NAME, value='button reject').click()\n",
    "    except NoSuchElementException:\n",
    "        pass\n",
    "    drink_name = driver.find_element(by = By.CSS_SELECTOR, value=\".heading-1\").text.lower()\n",
    "    time = driver.find_element(by = By.CSS_SELECTOR, value=\"time\").text\n",
    "    portions = driver.find_element(by = By.CSS_SELECTOR, value=\".post-header__servings .icon-with-text__children\").text.split()[1]\n",
    "    difficulty = driver.find_element(by = By.CSS_SELECTOR, value=\".post-header__skill-level .icon-with-text__children\").text\n",
    "    description = driver.find_element(by = By.CSS_SELECTOR, value=\".pr-xxs p\").text\n",
    "    ingredients = driver.find_element(by = By.XPATH, value='//*[@id=\"__next\"]/div[3]/main/div/div/div[1]/div[1]/div[2]/div[2]/div/section[1]/section').text.split('\\n')\n",
    "    steps = driver.find_element(by = By.CSS_SELECTOR, value=\".mb-lg.col-lg-6\").text.split('\\n')[::2][1:]\n",
    "    \n",
    "    image = driver.find_element(by = By.CSS_SELECTOR, value=\".post-header-image .image__img\")\n",
    "    image_url = image.get_attribute('src')\n",
    "\n",
    "    image_url_clean = re.sub('\\?.*','',image_url)\n",
    "    \n",
    "    result = {\n",
    "        'name': drink_name,\n",
    "        'time': time,\n",
    "        'portions': portions,\n",
    "        'difficulty': difficulty,\n",
    "        'description': description,\n",
    "        'ingredients': ingredients,\n",
    "        'steps': steps,\n",
    "        'url': url,\n",
    "        'website': website,\n",
    "        'image_url': image_url_clean\n",
    "    }\n",
    "    df = df.append(result, ignore_index=True)\n",
    "\n",
    "    with open(f'images/{website}/{drink_name}.png', 'wb') as file:\n",
    "        file.write(image.screenshot_as_png)\n",
    "    return df\n",
    "\n",
    "for url in drink_links:\n",
    "    try:\n",
    "        df= scrape(url, df)\n",
    "    except:\n",
    "        driver = webdriver.Chrome(service=Service(ChromeDriverManager().install()))\n",
    "        df = scrape(url,df)\n",
    "\n",
    "df.to_csv('./bbc.csv', index=False)"
   ]
  }
 ],
 "metadata": {
  "kernelspec": {
   "display_name": "Python 3.10.0 ('venv': venv)",
   "language": "python",
   "name": "python3"
  },
  "language_info": {
   "name": "python",
   "version": "3.10.0"
  },
  "orig_nbformat": 4,
  "vscode": {
   "interpreter": {
    "hash": "0514d10fc0f25ff9b943f7cf3193df6ecdaaa2accc0b736e64a971e0a7d5de87"
   }
  }
 },
 "nbformat": 4,
 "nbformat_minor": 2
}
